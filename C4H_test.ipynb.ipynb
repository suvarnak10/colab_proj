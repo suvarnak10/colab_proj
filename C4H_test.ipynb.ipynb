{
  "nbformat": 4,
  "nbformat_minor": 0,
  "metadata": {
    "colab": {
      "provenance": []
    },
    "kernelspec": {
      "name": "python3",
      "display_name": "Python 3"
    },
    "language_info": {
      "name": "python"
    }
  },
  "cells": [
    {
      "cell_type": "code",
      "execution_count": 1,
      "metadata": {
        "colab": {
          "base_uri": "https://localhost:8080/"
        },
        "id": "lep2RZu7EMKm",
        "outputId": "2784dcf7-8e6e-4c36-e8fa-3f45cdbfef9d"
      },
      "outputs": [
        {
          "output_type": "stream",
          "name": "stdout",
          "text": [
            "Hello, this is the first print statement.\n",
            "Python is great for data science and web development.\n",
            "Let's write multiple print statements in this notebook.\n",
            "Did you know? Jupyter notebooks support inline visualizations!\n",
            "Here is a simple math operation: 5 + 3 = 8\n",
            "String concatenation example: Hello World!\n",
            "Looping through a list and printing values:\n",
            "Value: 1\n",
            "Value: 2\n",
            "Value: 3\n",
            "Value: 4\n",
            "Value: 5\n",
            "That's all for now! Happy coding!\n"
          ]
        }
      ],
      "source": [
        "print(\"Hello, this is the first print statement.\")\n",
        "print(\"Python is great for data science and web development.\")\n",
        "print(\"Let's write multiple print statements in this notebook.\")\n",
        "print(\"Did you know? Jupyter notebooks support inline visualizations!\")\n",
        "print(\"Here is a simple math operation: 5 + 3 =\", 5 + 3)\n",
        "print(\"String concatenation example: \" + \"Hello \" + \"World!\")\n",
        "print(\"Looping through a list and printing values:\")\n",
        "for i in [1, 2, 3, 4, 5]:\n",
        "    print(f\"Value: {i}\")\n",
        "print(\"That's all for now! Happy coding!\")"
      ]
    }
  ]
}